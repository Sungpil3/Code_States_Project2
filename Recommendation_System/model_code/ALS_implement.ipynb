{
  "cells": [
    {
      "cell_type": "markdown",
      "source": [
        "# ALS 를 직접 구현해보자"
      ],
      "metadata": {
        "id": "mVIn3yua3SGo"
      }
    },
    {
      "cell_type": "code",
      "execution_count": null,
      "metadata": {
        "id": "eXVWCUx7RxcC"
      },
      "outputs": [],
      "source": [
        "import numpy as np\n",
        "import pandas as pd\n",
        "import scipy.sparse as sparse\n",
        "from scipy.sparse.linalg import spsolve\n",
        "import random\n",
        "from scipy.sparse import csr_matrix\n",
        "from numpy.linalg import inv\n",
        "import matplotlib.pyplot as plt\n",
        "from sklearn import metrics\n",
        "DATA_PATH = \"drive/MyDrive/\""
      ]
    },
    {
      "cell_type": "code",
      "source": [
        "# 데이터 불러오기 \n",
        "# 2019년 10월 E - commerce 로그 데이터 \n",
        "df = pd.read_parquet(DATA_PATH + \"2019-Oct.parquet.gzip\", columns = [\"event_type\", \"user_id\", \"product_id\", \"category_code\"])\n",
        "\n",
        "# 스마트폰의 조회 로그만 가져온다 \n",
        "df = df[(df[\"event_type\"] == \"view\") & (df[\"category_code\"] == \"electronics.smartphone\")]\n",
        "\n",
        "# 조회한 상품의 종류가 10개보다 큰 유저의 user_id list를 확보한다 \n",
        "gb = df.groupby(\"user_id\").nunique()\n",
        "gb = gb[gb[\"product_id\"] > 10]\n",
        "upper_user_id_list = user_index = np.array(gb.index)\n",
        "del gb\n",
        "\n",
        "# 조회한 상품의 종류가 10개보다 큰 유저중에서 100명울 random sampling 한다.\n",
        "df = df[df[\"user_id\"].isin(np.random.choice(user_index, 100))]\n",
        "df = df.reset_index(drop = True)\n",
        "print(f\"총 유저의 수 : {df['user_id'].nunique()} 명\")\n",
        "del upper_user_id_list\n",
        "\n",
        "# 로그데이터를 유저별로 어떤 상품을 몇번 조회한지 나타내는 데이터로 가공 \n",
        "df = df.groupby([\"user_id\", \"product_id\"]).count()\n",
        "df = df.reset_index()\n",
        "df = df.drop(columns = [\"category_code\"])\n",
        "df.head()"
      ],
      "metadata": {
        "colab": {
          "base_uri": "https://localhost:8080/",
          "height": 224
        },
        "id": "lNqtgUO-4LGT",
        "outputId": "baf3e98c-ef84-43e2-dfe4-7f630fda59bb"
      },
      "execution_count": null,
      "outputs": [
        {
          "output_type": "stream",
          "name": "stdout",
          "text": [
            "총 유저의 수 : 100 명\n"
          ]
        },
        {
          "output_type": "execute_result",
          "data": {
            "text/plain": [
              "     user_id  product_id  event_type\n",
              "0  497770459     1002099           1\n",
              "1  497770459     1002634           1\n",
              "2  497770459     1003711           1\n",
              "3  497770459     1004139           1\n",
              "4  497770459     1004565           1"
            ],
            "text/html": [
              "\n",
              "  <div id=\"df-9a7ef137-1c53-4d81-bd45-20ceed36c736\">\n",
              "    <div class=\"colab-df-container\">\n",
              "      <div>\n",
              "<style scoped>\n",
              "    .dataframe tbody tr th:only-of-type {\n",
              "        vertical-align: middle;\n",
              "    }\n",
              "\n",
              "    .dataframe tbody tr th {\n",
              "        vertical-align: top;\n",
              "    }\n",
              "\n",
              "    .dataframe thead th {\n",
              "        text-align: right;\n",
              "    }\n",
              "</style>\n",
              "<table border=\"1\" class=\"dataframe\">\n",
              "  <thead>\n",
              "    <tr style=\"text-align: right;\">\n",
              "      <th></th>\n",
              "      <th>user_id</th>\n",
              "      <th>product_id</th>\n",
              "      <th>event_type</th>\n",
              "    </tr>\n",
              "  </thead>\n",
              "  <tbody>\n",
              "    <tr>\n",
              "      <th>0</th>\n",
              "      <td>497770459</td>\n",
              "      <td>1002099</td>\n",
              "      <td>1</td>\n",
              "    </tr>\n",
              "    <tr>\n",
              "      <th>1</th>\n",
              "      <td>497770459</td>\n",
              "      <td>1002634</td>\n",
              "      <td>1</td>\n",
              "    </tr>\n",
              "    <tr>\n",
              "      <th>2</th>\n",
              "      <td>497770459</td>\n",
              "      <td>1003711</td>\n",
              "      <td>1</td>\n",
              "    </tr>\n",
              "    <tr>\n",
              "      <th>3</th>\n",
              "      <td>497770459</td>\n",
              "      <td>1004139</td>\n",
              "      <td>1</td>\n",
              "    </tr>\n",
              "    <tr>\n",
              "      <th>4</th>\n",
              "      <td>497770459</td>\n",
              "      <td>1004565</td>\n",
              "      <td>1</td>\n",
              "    </tr>\n",
              "  </tbody>\n",
              "</table>\n",
              "</div>\n",
              "      <button class=\"colab-df-convert\" onclick=\"convertToInteractive('df-9a7ef137-1c53-4d81-bd45-20ceed36c736')\"\n",
              "              title=\"Convert this dataframe to an interactive table.\"\n",
              "              style=\"display:none;\">\n",
              "        \n",
              "  <svg xmlns=\"http://www.w3.org/2000/svg\" height=\"24px\"viewBox=\"0 0 24 24\"\n",
              "       width=\"24px\">\n",
              "    <path d=\"M0 0h24v24H0V0z\" fill=\"none\"/>\n",
              "    <path d=\"M18.56 5.44l.94 2.06.94-2.06 2.06-.94-2.06-.94-.94-2.06-.94 2.06-2.06.94zm-11 1L8.5 8.5l.94-2.06 2.06-.94-2.06-.94L8.5 2.5l-.94 2.06-2.06.94zm10 10l.94 2.06.94-2.06 2.06-.94-2.06-.94-.94-2.06-.94 2.06-2.06.94z\"/><path d=\"M17.41 7.96l-1.37-1.37c-.4-.4-.92-.59-1.43-.59-.52 0-1.04.2-1.43.59L10.3 9.45l-7.72 7.72c-.78.78-.78 2.05 0 2.83L4 21.41c.39.39.9.59 1.41.59.51 0 1.02-.2 1.41-.59l7.78-7.78 2.81-2.81c.8-.78.8-2.07 0-2.86zM5.41 20L4 18.59l7.72-7.72 1.47 1.35L5.41 20z\"/>\n",
              "  </svg>\n",
              "      </button>\n",
              "      \n",
              "  <style>\n",
              "    .colab-df-container {\n",
              "      display:flex;\n",
              "      flex-wrap:wrap;\n",
              "      gap: 12px;\n",
              "    }\n",
              "\n",
              "    .colab-df-convert {\n",
              "      background-color: #E8F0FE;\n",
              "      border: none;\n",
              "      border-radius: 50%;\n",
              "      cursor: pointer;\n",
              "      display: none;\n",
              "      fill: #1967D2;\n",
              "      height: 32px;\n",
              "      padding: 0 0 0 0;\n",
              "      width: 32px;\n",
              "    }\n",
              "\n",
              "    .colab-df-convert:hover {\n",
              "      background-color: #E2EBFA;\n",
              "      box-shadow: 0px 1px 2px rgba(60, 64, 67, 0.3), 0px 1px 3px 1px rgba(60, 64, 67, 0.15);\n",
              "      fill: #174EA6;\n",
              "    }\n",
              "\n",
              "    [theme=dark] .colab-df-convert {\n",
              "      background-color: #3B4455;\n",
              "      fill: #D2E3FC;\n",
              "    }\n",
              "\n",
              "    [theme=dark] .colab-df-convert:hover {\n",
              "      background-color: #434B5C;\n",
              "      box-shadow: 0px 1px 3px 1px rgba(0, 0, 0, 0.15);\n",
              "      filter: drop-shadow(0px 1px 2px rgba(0, 0, 0, 0.3));\n",
              "      fill: #FFFFFF;\n",
              "    }\n",
              "  </style>\n",
              "\n",
              "      <script>\n",
              "        const buttonEl =\n",
              "          document.querySelector('#df-9a7ef137-1c53-4d81-bd45-20ceed36c736 button.colab-df-convert');\n",
              "        buttonEl.style.display =\n",
              "          google.colab.kernel.accessAllowed ? 'block' : 'none';\n",
              "\n",
              "        async function convertToInteractive(key) {\n",
              "          const element = document.querySelector('#df-9a7ef137-1c53-4d81-bd45-20ceed36c736');\n",
              "          const dataTable =\n",
              "            await google.colab.kernel.invokeFunction('convertToInteractive',\n",
              "                                                     [key], {});\n",
              "          if (!dataTable) return;\n",
              "\n",
              "          const docLinkHtml = 'Like what you see? Visit the ' +\n",
              "            '<a target=\"_blank\" href=https://colab.research.google.com/notebooks/data_table.ipynb>data table notebook</a>'\n",
              "            + ' to learn more about interactive tables.';\n",
              "          element.innerHTML = '';\n",
              "          dataTable['output_type'] = 'display_data';\n",
              "          await google.colab.output.renderOutput(dataTable, element);\n",
              "          const docLink = document.createElement('div');\n",
              "          docLink.innerHTML = docLinkHtml;\n",
              "          element.appendChild(docLink);\n",
              "        }\n",
              "      </script>\n",
              "    </div>\n",
              "  </div>\n",
              "  "
            ]
          },
          "metadata": {},
          "execution_count": 9
        }
      ]
    },
    {
      "cell_type": "code",
      "execution_count": null,
      "metadata": {
        "id": "MhWgMPTIRxcG",
        "colab": {
          "base_uri": "https://localhost:8080/"
        },
        "outputId": "bb09f34a-8177-4c43-d663-a1095d2c8a58"
      },
      "outputs": [
        {
          "output_type": "stream",
          "name": "stdout",
          "text": [
            "희소행렬에서 0이 아닌 값의 비중0.03684601113172542\n"
          ]
        }
      ],
      "source": [
        "# user-item matrix를 생성한다.\n",
        "\n",
        "user_unique = df['user_id'].unique()\n",
        "product_unique = df['product_id'].unique()\n",
        "user_to_idx = {v:k for k,v in enumerate(user_unique)}\n",
        "product_to_idx = {v:k for k,v in enumerate(product_unique)}\n",
        "temp_user_data = df['user_id'].map(user_to_idx.get)\n",
        "df['user_id'] = temp_user_data\n",
        "temp_product_data = df['product_id'].map(product_to_idx.get)\n",
        "df['product_id'] = temp_product_data\n",
        "num_user = df['user_id'].nunique()\n",
        "num_product = df['product_id'].nunique()\n",
        "\n",
        "csr_data = csr_matrix((df.event_type, (df.user_id, df.product_id)), shape= (num_user, num_product))\n",
        "print(f\"희소행렬에서 0이 아닌 값의 비중{csr_data.count_nonzero() / (num_user * num_product)}\")"
      ]
    },
    {
      "cell_type": "code",
      "execution_count": null,
      "metadata": {
        "id": "OGpwLhS5RxcI"
      },
      "outputs": [],
      "source": [
        "# 훈련데이터를 분리한다\n",
        "# 20%의 data point를 masking 한다\n",
        "percentage = 0.2\n",
        "\n",
        "test_set = csr_data.copy()\n",
        "test_set[test_set !=0] = 1\n",
        "\n",
        "training_set = csr_data.copy()\n",
        "nonzero_inds = training_set.nonzero()\n",
        "nonzero_pairs = list(zip(nonzero_inds[0], nonzero_inds[1]))\n",
        "\n",
        "random.seed(0)\n",
        "num_samples = int(np.ceil(percentage * len(nonzero_pairs)))\n",
        "samples = random.sample(nonzero_pairs, num_samples)\n",
        "\n",
        "user_inds = [index[0] for index in samples]\n",
        "item_inds = [index[1] for index in samples]\n",
        "\n",
        "training_set[user_inds, item_inds] = 0\n",
        "training_set.eliminate_zeros()"
      ]
    },
    {
      "cell_type": "code",
      "execution_count": null,
      "metadata": {
        "id": "B1PJ7dRhRxcJ"
      },
      "outputs": [],
      "source": [
        "# 클래스로 ALS를 구현한다\n",
        "class ALS():\n",
        "    def __init__(self, arg_df, arg_alpha, arg_f, arg_lambda):\n",
        "        self.Pui = np.array(arg_df.toarray())\n",
        "        self.m = self.Pui.shape[0]\n",
        "        self.n = self.Pui.shape[1]\n",
        "        self.alpha = arg_alpha\n",
        "        if arg_f >= min(self.m, self.n):\n",
        "            raise Exception(\"arg_f must less than min(no of user, no of item)\")\n",
        "        else:\n",
        "            self.f = arg_f\n",
        "        self.lambda_ = arg_lambda\n",
        "        self.Rui = np.array(self.Pui > 0, dtype='int64')\n",
        "        self.Cui = 1 + self.alpha * self.Rui\n",
        "        self.X = np.reshape(np.random.normal(0,1,self.m*self.f),(self.m,self.f))\n",
        "        self.Y = np.reshape(np.random.normal(0,1,self.n*self.f),(self.n,self.f))\n",
        "    def update_X(self, arg_i):\n",
        "        self.i = arg_i\n",
        "        self.Cu = np.diag(self.Cui[self.i,:])\n",
        "        self.Pu = self.Pui[self.i,:]\n",
        "        self.X[self.i,:] = np.matmul(np.matmul(np.matmul(inv(np.matmul(np.matmul(self.Y.T, self.Cu), self.Y) + self.lambda_ * np.identity(n=self.f, dtype=np.int8)), self.Y.T), self.Cu), self.Pu) \n",
        "    def update_Y(self, arg_i):\n",
        "        self.i = arg_i\n",
        "        self.Ci = np.diag(self.Cui[:,self.i])\n",
        "        self.Pi = self.Pui[:,self.i]\n",
        "        self.Y[self.i,:] = np.matmul(np.matmul(np.matmul(inv(np.matmul(np.matmul(self.X.T, self.Ci), self.X) + self.lambda_ * np.identity(n=self.f, dtype=np.int8)), self.X.T), self.Ci), self.Pi)    \n",
        "    def fit(self, arg_epoch, arg_num_cores):\n",
        "        if arg_num_cores > mp.cpu_count():\n",
        "            raise Exception(f\"arg_num_cores must less than {mp.cpu_count()}\")\n",
        "        else:\n",
        "            self.num_cores = arg_num_cores\n",
        "        self.error = []    \n",
        "        mse = np.sum(np.square(self.Pui - np.matmul(self.X, self.Y.T))) / (self.m*self.n)\n",
        "        self.error.append(mse)\n",
        "        for iteration in range(arg_epoch):   \n",
        "            mse = np.sum(np.square(self.Pui - np.matmul(self.X, self.Y.T))) / (self.m*self.n)\n",
        "            print(\"=\"*10 + f\"{iteration} update\" + \"=\"*10)\n",
        "            print(f\"MSE = {mse}\")          \n",
        "            for i in range(self.m):\n",
        "                self.update_X(i)\n",
        "            for i in range(self.n):\n",
        "                self.update_Y(i)\n",
        "            self.error.append(mse)\n",
        "        plt.plot(self.error[1:]) "
      ]
    },
    {
      "cell_type": "code",
      "execution_count": null,
      "metadata": {
        "id": "M6FV3S6mRxcJ",
        "outputId": "a8ab03be-8cb1-4394-c7bd-32291e9d28e3",
        "colab": {
          "base_uri": "https://localhost:8080/",
          "height": 612
        }
      },
      "outputs": [
        {
          "output_type": "stream",
          "name": "stdout",
          "text": [
            "==========0 update==========\n",
            "MSE = 19.80941562796681\n",
            "==========1 update==========\n",
            "MSE = 0.3427164172675107\n",
            "==========2 update==========\n",
            "MSE = 0.2692225100991757\n",
            "==========3 update==========\n",
            "MSE = 0.2506803921906645\n",
            "==========4 update==========\n",
            "MSE = 0.24419468797379168\n",
            "==========5 update==========\n",
            "MSE = 0.2412970421141263\n",
            "==========6 update==========\n",
            "MSE = 0.23980234366123204\n",
            "==========7 update==========\n",
            "MSE = 0.2389444726185187\n",
            "==========8 update==========\n",
            "MSE = 0.23841625703183486\n",
            "==========9 update==========\n",
            "MSE = 0.23807371179103898\n"
          ]
        },
        {
          "output_type": "display_data",
          "data": {
            "text/plain": [
              "<Figure size 432x288 with 1 Axes>"
            ],
            "image/png": "[encoded data removed]"
          },
          "metadata": {
            "needs_background": "light"
          }
        }
      ],
      "source": [
        "model = ALS(training_set, 40, 20, 20)\n",
        "model.fit(10,2)"
      ]
    },
    {
      "cell_type": "code",
      "execution_count": null,
      "metadata": {
        "id": "8sax327MRxcK",
        "outputId": "79315e78-6e2c-48c2-efb3-3c185f28e467",
        "colab": {
          "base_uri": "https://localhost:8080/"
        }
      },
      "outputs": [
        {
          "output_type": "stream",
          "name": "stdout",
          "text": [
            "ALS 모델의 성능 = 0.6687680700685313 , 유저 전체의 조회수 평균으로 예측하는 성능 = 0.6872726755524781\n"
          ]
        }
      ],
      "source": [
        "pred_mat = np.matmul(model.X, model.Y.T)\n",
        "pop_items = np.array(training_set.mean(axis = 0)).reshape(-1)\n",
        "model_auc_list = []\n",
        "just_auc_list = []\n",
        "for user in list(set(user_inds)):\n",
        "    training_row = training_set[user,:].toarray().reshape(-1)\n",
        "    zero_inds = np.where(training_row == 0)\n",
        "    pred = pred_mat[user][zero_inds]\n",
        "    real = test_set.toarray()[user][zero_inds]\n",
        "    fpr, tpr, thresholds = metrics.roc_curve(real, pred)\n",
        "    model_auc_list.append(metrics.auc(fpr,tpr))\n",
        "    pred = pop_items[zero_inds]\n",
        "    fpr, tpr, thresholds = metrics.roc_curve(real, pred)\n",
        "    just_auc_list.append(metrics.auc(fpr,tpr))\n",
        "print(f\"ALS 모델의 성능 = {np.mean(model_auc_list)} , 유저 전체의 조회수 평균으로 예측하는 성능 = {np.mean(just_auc_list)}\")    "
      ]
    }
  ],
  "metadata": {
    "interpreter": {
      "hash": "81794d4967e6c3204c66dcd87b604927b115b27c00565d3d43f05ba2f3a2cb0d"
    },
    "kernelspec": {
      "display_name": "Python 3.9.6 64-bit",
      "language": "python",
      "name": "python3"
    },
    "language_info": {
      "codemirror_mode": {
        "name": "ipython",
        "version": 3
      },
      "file_extension": ".py",
      "mimetype": "text/x-python",
      "name": "python",
      "nbconvert_exporter": "python",
      "pygments_lexer": "ipython3",
      "version": "3.9.6"
    },
    "orig_nbformat": 4,
    "colab": {
      "name": "ALS_implement.ipynb",
      "provenance": [],
      "collapsed_sections": []
    }
  },
  "nbformat": 4,
  "nbformat_minor": 0
}